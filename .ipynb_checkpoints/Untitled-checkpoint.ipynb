{
 "cells": [
  {
   "cell_type": "code",
   "execution_count": 1,
   "metadata": {
    "collapsed": true
   },
   "outputs": [],
   "source": [
    "import random\n",
    "import matplotlib.pyplot as plt\n",
    "import numpy as np\n",
    "import pandas as pd\n",
    "import os\n",
    "import ast\n",
    "import visuals as vs"
   ]
  },
  {
   "cell_type": "code",
   "execution_count": 2,
   "metadata": {
    "collapsed": true
   },
   "outputs": [],
   "source": [
    "valid_actions = ['None', 'forward', 'left', 'right']"
   ]
  },
  {
   "cell_type": "code",
   "execution_count": 3,
   "metadata": {
    "collapsed": false
   },
   "outputs": [
    {
     "data": {
      "text/plain": [
       "\"{'light': 'red', 'oncoming': 'forward', 'right': 'forward', 'left': 'forward'}\""
      ]
     },
     "execution_count": 3,
     "metadata": {},
     "output_type": "execute_result"
    }
   ],
   "source": [
    "q=dict()\n",
    "inputs={'light': 'red', 'oncoming': 'forward', 'left': 'forward', 'right': 'forward'}\n",
    "waypoints = ('forward','left','right')\n",
    "deadline = 20\n",
    "state = str(inputs)\n",
    "state"
   ]
  },
  {
   "cell_type": "code",
   "execution_count": 4,
   "metadata": {
    "collapsed": false
   },
   "outputs": [
    {
     "data": {
      "text/plain": [
       "{\"{'light': 'red', 'oncoming': 'forward', 'right': 'forward', 'left': 'forward'}\": {'None': 0.0,\n",
       "  'forward': 0.0,\n",
       "  'left': 0.0,\n",
       "  'right': 0.0}}"
      ]
     },
     "execution_count": 4,
     "metadata": {},
     "output_type": "execute_result"
    }
   ],
   "source": [
    "q=dict()\n",
    "q.setdefault(state,dict((el,0.0) for el in valid_actions))\n",
    "q"
   ]
  },
  {
   "cell_type": "code",
   "execution_count": 13,
   "metadata": {
    "collapsed": false
   },
   "outputs": [
    {
     "data": {
      "text/plain": [
       "{'None': 3.1, 'forward': 2.0, 'left': -20.3, 'right': 0.1}"
      ]
     },
     "execution_count": 13,
     "metadata": {},
     "output_type": "execute_result"
    }
   ],
   "source": [
    "q[state]['forward'] = 2.0\n",
    "q[state]['right'] = 0.1\n",
    "q[state]['left'] = -20.3\n",
    "q[state]['None'] = 3.1\n",
    "q[state]"
   ]
  },
  {
   "cell_type": "code",
   "execution_count": 14,
   "metadata": {
    "collapsed": false
   },
   "outputs": [
    {
     "data": {
      "text/plain": [
       "3.1"
      ]
     },
     "execution_count": 14,
     "metadata": {},
     "output_type": "execute_result"
    }
   ],
   "source": [
    "max(q[state].values())"
   ]
  },
  {
   "cell_type": "code",
   "execution_count": 15,
   "metadata": {
    "collapsed": false
   },
   "outputs": [
    {
     "data": {
      "text/plain": [
       "{'None': 3.1, 'forward': 2.0, 'left': -20.3, 'right': 0.1}"
      ]
     },
     "execution_count": 15,
     "metadata": {},
     "output_type": "execute_result"
    }
   ],
   "source": [
    "q[state]"
   ]
  },
  {
   "cell_type": "code",
   "execution_count": 29,
   "metadata": {
    "collapsed": true
   },
   "outputs": [],
   "source": [
    "def get_maxQ(state):\n",
    "        \"\"\" The get_max_Q function is called when the agent is asked to find the\n",
    "            maximum Q-value of all actions based on the 'state' the smartcab is in. \"\"\"\n",
    "\n",
    "        ########### \n",
    "        ## TO DO ##\n",
    "        ###########\n",
    "        # Calculate the maximum Q-value of all actions for a given state and return action\n",
    "        # Sort Q-values, highest to lowest for given state and return sorted action list\n",
    "\n",
    "        #maxQ = max(q[state], key=q[state].get)\n",
    "        maxQ = sorted(q[state], key=q[state].get, reverse = True)\n",
    "\n",
    "        return maxQ "
   ]
  },
  {
   "cell_type": "code",
   "execution_count": 30,
   "metadata": {
    "collapsed": false
   },
   "outputs": [
    {
     "data": {
      "text/plain": [
       "{'None': 3.1, 'forward': 2.0, 'left': -20.3, 'right': 0.1}"
      ]
     },
     "execution_count": 30,
     "metadata": {},
     "output_type": "execute_result"
    }
   ],
   "source": [
    "q[state]"
   ]
  },
  {
   "cell_type": "code",
   "execution_count": 31,
   "metadata": {
    "collapsed": false
   },
   "outputs": [
    {
     "data": {
      "text/plain": [
       "['None', 'forward', 'right', 'left']"
      ]
     },
     "execution_count": 31,
     "metadata": {},
     "output_type": "execute_result"
    }
   ],
   "source": [
    "get_maxQ(state)"
   ]
  },
  {
   "cell_type": "code",
   "execution_count": 48,
   "metadata": {
    "collapsed": false,
    "scrolled": true
   },
   "outputs": [],
   "source": [
    "state2={'light': 'green', 'oncoming': 'forward', 'left': 'forward', 'right': 'right'}\n",
    "learning_inputs ={}\n",
    "learning_inputs2={}"
   ]
  },
  {
   "cell_type": "code",
   "execution_count": 49,
   "metadata": {
    "collapsed": false
   },
   "outputs": [
    {
     "data": {
      "text/plain": [
       "{'left': None, 'light': 'green', 'oncoming': 'forward', 'right': None}"
      ]
     },
     "execution_count": 49,
     "metadata": {},
     "output_type": "execute_result"
    }
   ],
   "source": [
    "if state2['light'] is 'green':\n",
    "    learning_inputs['light'] = 'green'\n",
    "    learning_inputs['oncoming'] = 'forward'\n",
    "    learning_inputs['left'] = None\n",
    "    learning_inputs['right'] = None\n",
    "learning_inputs"
   ]
  },
  {
   "cell_type": "code",
   "execution_count": 50,
   "metadata": {
    "collapsed": false
   },
   "outputs": [
    {
     "data": {
      "text/plain": [
       "{'left': 'forward', 'light': 'red', 'oncoming': None, 'right': None}"
      ]
     },
     "execution_count": 50,
     "metadata": {},
     "output_type": "execute_result"
    }
   ],
   "source": [
    "if inputs['light'] == 'red' and inputs['left'] == ('forward' or 'left'):\n",
    "    learning_inputs2['light'] = 'red'\n",
    "    learning_inputs2['oncoming'] = None\n",
    "    learning_inputs2['left'] = 'forward'\n",
    "    learning_inputs2['right'] = None\n",
    "learning_inputs2"
   ]
  },
  {
   "cell_type": "code",
   "execution_count": 44,
   "metadata": {
    "collapsed": false
   },
   "outputs": [
    {
     "ename": "SyntaxError",
     "evalue": "invalid syntax (<ipython-input-44-e20a09116a48>, line 1)",
     "output_type": "error",
     "traceback": [
      "\u001b[0;36m  File \u001b[0;32m\"<ipython-input-44-e20a09116a48>\"\u001b[0;36m, line \u001b[0;32m1\u001b[0m\n\u001b[0;31m    (state2['oncoming'], key=valid_actions.get())\u001b[0m\n\u001b[0m                            ^\u001b[0m\n\u001b[0;31mSyntaxError\u001b[0m\u001b[0;31m:\u001b[0m invalid syntax\n"
     ]
    }
   ],
   "source": [
    "(state2['oncoming'], key=valid_actions.get)"
   ]
  },
  {
   "cell_type": "code",
   "execution_count": null,
   "metadata": {
    "collapsed": true
   },
   "outputs": [],
   "source": []
  }
 ],
 "metadata": {
  "anaconda-cloud": {},
  "kernelspec": {
   "display_name": "Python [default]",
   "language": "python",
   "name": "python2"
  },
  "language_info": {
   "codemirror_mode": {
    "name": "ipython",
    "version": 2
   },
   "file_extension": ".py",
   "mimetype": "text/x-python",
   "name": "python",
   "nbconvert_exporter": "python",
   "pygments_lexer": "ipython2",
   "version": "2.7.12"
  }
 },
 "nbformat": 4,
 "nbformat_minor": 0
}
