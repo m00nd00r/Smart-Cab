{
 "cells": [
  {
   "cell_type": "code",
   "execution_count": 1,
   "metadata": {
    "collapsed": true
   },
   "outputs": [],
   "source": [
    "import random\n",
    "import matplotlib.pyplot as plt\n",
    "import numpy as np\n",
    "import pandas as pd\n",
    "import os\n",
    "import ast\n",
    "import visuals as vs"
   ]
  },
  {
   "cell_type": "code",
   "execution_count": 2,
   "metadata": {
    "collapsed": true
   },
   "outputs": [],
   "source": [
    "valid_actions = [None, 'forward', 'left', 'right']"
   ]
  },
  {
   "cell_type": "code",
   "execution_count": 3,
   "metadata": {
    "collapsed": false
   },
   "outputs": [
    {
     "data": {
      "text/plain": [
       "\"{'light': 'red', 'oncoming': 'forward', 'right': 'forward', 'left': 'forward'}\""
      ]
     },
     "execution_count": 3,
     "metadata": {},
     "output_type": "execute_result"
    }
   ],
   "source": [
    "q=dict()\n",
    "inputs={'light': 'red', 'oncoming': 'forward', 'left': 'forward', 'right': 'forward'}\n",
    "waypoints = ('forward','left','right')\n",
    "deadline = 20\n",
    "state = str(inputs)\n",
    "state"
   ]
  },
  {
   "cell_type": "code",
   "execution_count": 4,
   "metadata": {
    "collapsed": false
   },
   "outputs": [
    {
     "data": {
      "text/plain": [
       "{\"{'light': 'red', 'oncoming': 'forward', 'right': 'forward', 'left': 'forward'}\": {None: 0.0,\n",
       "  'forward': 0.0,\n",
       "  'left': 0.0,\n",
       "  'right': 0.0}}"
      ]
     },
     "execution_count": 4,
     "metadata": {},
     "output_type": "execute_result"
    }
   ],
   "source": [
    "q=dict()\n",
    "q.setdefault(state,dict((el,0.0) for el in valid_actions))\n",
    "#q[state] = q.get(state,dict((el,0.0) for el in valid_actions))\n",
    "q"
   ]
  },
  {
   "cell_type": "code",
   "execution_count": 5,
   "metadata": {
    "collapsed": false
   },
   "outputs": [
    {
     "data": {
      "text/plain": [
       "{None: 3.1, 'forward': 2.0, 'left': -20.3, 'right': 0.1}"
      ]
     },
     "execution_count": 5,
     "metadata": {},
     "output_type": "execute_result"
    }
   ],
   "source": [
    "q[state]['forward'] = 2.0\n",
    "q[state]['right'] = 0.1\n",
    "q[state]['left'] = -20.3\n",
    "q[state][None] = 3.1\n",
    "q[state]"
   ]
  },
  {
   "cell_type": "code",
   "execution_count": 6,
   "metadata": {
    "collapsed": false
   },
   "outputs": [
    {
     "data": {
      "text/plain": [
       "3.1"
      ]
     },
     "execution_count": 6,
     "metadata": {},
     "output_type": "execute_result"
    }
   ],
   "source": [
    "max(q[state].values())"
   ]
  },
  {
   "cell_type": "code",
   "execution_count": 7,
   "metadata": {
    "collapsed": false
   },
   "outputs": [
    {
     "data": {
      "text/plain": [
       "{None: 3.1, 'forward': 2.0, 'left': -20.3, 'right': 0.1}"
      ]
     },
     "execution_count": 7,
     "metadata": {},
     "output_type": "execute_result"
    }
   ],
   "source": [
    "q[state]"
   ]
  },
  {
   "cell_type": "code",
   "execution_count": 8,
   "metadata": {
    "collapsed": true
   },
   "outputs": [],
   "source": [
    "def get_rankQ(state):\n",
    "        \"\"\" The get_max_Q function is called when the agent is asked to find the\n",
    "            maximum Q-value of all actions based on the 'state' the smartcab is in. \"\"\"\n",
    "\n",
    "        ########### \n",
    "        ## TO DO ##\n",
    "        ###########\n",
    "        # Calculate the maximum Q-value of all actions for a given state and return action\n",
    "        # Sort Q-values, highest to lowest for given state and return sorted action list\n",
    "\n",
    "        #maxQ = max(q[state], key=q[state].get)\n",
    "        rankQ = sorted(q[state], key=q[state].get, reverse = True)\n",
    "\n",
    "        return rankQ "
   ]
  },
  {
   "cell_type": "code",
   "execution_count": 25,
   "metadata": {
    "collapsed": true
   },
   "outputs": [],
   "source": [
    "def get_maxQ(state):\n",
    "        \"\"\" The get_max_Q function is called when the agent is asked to find the\n",
    "            maximum Q-value of all actions based on the 'state' the smartcab is in. \"\"\"\n",
    "        \n",
    "        #self.state = state\n",
    "        ########### \n",
    "        ## TO DO ##\n",
    "        ###########\n",
    "        # Calculate the maximum Q-value of all actions for a given state\n",
    "\n",
    "        #maxQ = max(self.Q[self.state], key=self.Q[self.state].get)\n",
    "        maxQ = max(q[state].values())\n",
    "\n",
    "        return maxQ"
   ]
  },
  {
   "cell_type": "code",
   "execution_count": 10,
   "metadata": {
    "collapsed": false
   },
   "outputs": [
    {
     "data": {
      "text/plain": [
       "{None: 3.1, 'forward': 2.0, 'left': -20.3, 'right': 0.1}"
      ]
     },
     "execution_count": 10,
     "metadata": {},
     "output_type": "execute_result"
    }
   ],
   "source": [
    "q[state]"
   ]
  },
  {
   "cell_type": "code",
   "execution_count": 11,
   "metadata": {
    "collapsed": false
   },
   "outputs": [
    {
     "data": {
      "text/plain": [
       "[None, 'forward', 'right', 'left']"
      ]
     },
     "execution_count": 11,
     "metadata": {},
     "output_type": "execute_result"
    }
   ],
   "source": [
    "get_rankQ(state)"
   ]
  },
  {
   "cell_type": "code",
   "execution_count": 12,
   "metadata": {
    "collapsed": false,
    "scrolled": true
   },
   "outputs": [
    {
     "data": {
      "text/plain": [
       "\"{'light': 'green', 'oncoming': 'forward', 'right': 'right', 'left': 'forward'}\""
      ]
     },
     "execution_count": 12,
     "metadata": {},
     "output_type": "execute_result"
    }
   ],
   "source": [
    "inputs2={'light': 'green', 'oncoming': 'forward', 'left': 'forward', 'right': 'right'}\n",
    "state2=str(inputs2)\n",
    "learning_inputs ={}\n",
    "learning_inputs2={}\n",
    "state2"
   ]
  },
  {
   "cell_type": "code",
   "execution_count": 13,
   "metadata": {
    "collapsed": false
   },
   "outputs": [
    {
     "data": {
      "text/plain": [
       "{'left': None, 'light': 'green', 'oncoming': 'forward', 'right': None}"
      ]
     },
     "execution_count": 13,
     "metadata": {},
     "output_type": "execute_result"
    }
   ],
   "source": [
    "if inputs['light'] is 'red':\n",
    "    learning_inputs['light'] = 'green'\n",
    "    learning_inputs['oncoming'] = 'forward'\n",
    "    learning_inputs['left'] = None\n",
    "    learning_inputs['right'] = None\n",
    "learning_inputs"
   ]
  },
  {
   "cell_type": "code",
   "execution_count": 14,
   "metadata": {
    "collapsed": false
   },
   "outputs": [
    {
     "data": {
      "text/plain": [
       "{'left': 'forward', 'light': 'red', 'oncoming': None, 'right': None}"
      ]
     },
     "execution_count": 14,
     "metadata": {},
     "output_type": "execute_result"
    }
   ],
   "source": [
    "if inputs2['light'] == 'green' and inputs2['left'] == ('forward' or 'left'):\n",
    "    learning_inputs2['light'] = 'red'\n",
    "    learning_inputs2['oncoming'] = None\n",
    "    learning_inputs2['left'] = 'forward'\n",
    "    learning_inputs2['right'] = None\n",
    "learning_inputs2"
   ]
  },
  {
   "cell_type": "code",
   "execution_count": 16,
   "metadata": {
    "collapsed": false
   },
   "outputs": [
    {
     "data": {
      "text/plain": [
       "{None: 0.0, 'forward': 0.0, 'left': 0.0, 'right': 0.0}"
      ]
     },
     "execution_count": 16,
     "metadata": {},
     "output_type": "execute_result"
    }
   ],
   "source": [
    "q.setdefault(state2,dict((el,0.0) for el in valid_actions))\n",
    "#q[state2] = q.get(state2,dict((el,0.0) for el in valid_actions))"
   ]
  },
  {
   "cell_type": "code",
   "execution_count": 17,
   "metadata": {
    "collapsed": false
   },
   "outputs": [
    {
     "data": {
      "text/plain": [
       "{\"{'light': 'green', 'oncoming': 'forward', 'right': 'right', 'left': 'forward'}\": {None: 1.0,\n",
       "  'forward': 2.0,\n",
       "  'left': 2.0,\n",
       "  'right': 0.1},\n",
       " \"{'light': 'red', 'oncoming': 'forward', 'right': 'forward', 'left': 'forward'}\": {None: 3.1,\n",
       "  'forward': 2.0,\n",
       "  'left': -20.3,\n",
       "  'right': 0.1}}"
      ]
     },
     "execution_count": 17,
     "metadata": {},
     "output_type": "execute_result"
    }
   ],
   "source": [
    "q[state2]['forward'] = 2.0\n",
    "q[state2]['right'] = 0.1\n",
    "q[state2]['left'] = 2.0\n",
    "q[state2][None] = 1.0\n",
    "q"
   ]
  },
  {
   "cell_type": "code",
   "execution_count": 26,
   "metadata": {
    "collapsed": false
   },
   "outputs": [
    {
     "ename": "NameError",
     "evalue": "global name 'self' is not defined",
     "output_type": "error",
     "traceback": [
      "\u001b[0;31m---------------------------------------------------------------------------\u001b[0m",
      "\u001b[0;31mNameError\u001b[0m                                 Traceback (most recent call last)",
      "\u001b[0;32m<ipython-input-26-56e4d0a77a00>\u001b[0m in \u001b[0;36m<module>\u001b[0;34m()\u001b[0m\n\u001b[0;32m----> 1\u001b[0;31m \u001b[0mget_maxQ\u001b[0m\u001b[1;33m(\u001b[0m\u001b[0mstate2\u001b[0m\u001b[1;33m)\u001b[0m \u001b[1;33m>\u001b[0m \u001b[1;36m1\u001b[0m\u001b[1;33m\u001b[0m\u001b[0m\n\u001b[0m",
      "\u001b[0;32m<ipython-input-25-e6ba66db46fd>\u001b[0m in \u001b[0;36mget_maxQ\u001b[0;34m(state)\u001b[0m\n\u001b[1;32m      3\u001b[0m             maximum Q-value of all actions based on the 'state' the smartcab is in. \"\"\"\n\u001b[1;32m      4\u001b[0m \u001b[1;33m\u001b[0m\u001b[0m\n\u001b[0;32m----> 5\u001b[0;31m         \u001b[0mself\u001b[0m\u001b[1;33m.\u001b[0m\u001b[0mstate\u001b[0m \u001b[1;33m=\u001b[0m \u001b[0mstate\u001b[0m\u001b[1;33m\u001b[0m\u001b[0m\n\u001b[0m\u001b[1;32m      6\u001b[0m         \u001b[1;31m###########\u001b[0m\u001b[1;33m\u001b[0m\u001b[1;33m\u001b[0m\u001b[0m\n\u001b[1;32m      7\u001b[0m         \u001b[1;31m## TO DO ##\u001b[0m\u001b[1;33m\u001b[0m\u001b[1;33m\u001b[0m\u001b[0m\n",
      "\u001b[0;31mNameError\u001b[0m: global name 'self' is not defined"
     ]
    }
   ],
   "source": [
    "get_maxQ(state2) > 1"
   ]
  },
  {
   "cell_type": "code",
   "execution_count": 22,
   "metadata": {
    "collapsed": false
   },
   "outputs": [
    {
     "data": {
      "text/plain": [
       "[2.0, 0.1, 1.0, 2.0]"
      ]
     },
     "execution_count": 22,
     "metadata": {},
     "output_type": "execute_result"
    }
   ],
   "source": [
    "q[state2].values()"
   ]
  },
  {
   "cell_type": "code",
   "execution_count": null,
   "metadata": {
    "collapsed": true
   },
   "outputs": [],
   "source": []
  }
 ],
 "metadata": {
  "anaconda-cloud": {},
  "kernelspec": {
   "display_name": "Python [default]",
   "language": "python",
   "name": "python2"
  },
  "language_info": {
   "codemirror_mode": {
    "name": "ipython",
    "version": 2
   },
   "file_extension": ".py",
   "mimetype": "text/x-python",
   "name": "python",
   "nbconvert_exporter": "python",
   "pygments_lexer": "ipython2",
   "version": "2.7.12"
  }
 },
 "nbformat": 4,
 "nbformat_minor": 0
}
